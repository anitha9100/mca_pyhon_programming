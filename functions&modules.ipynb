{
 "cells": [
  {
   "cell_type": "code",
   "execution_count": 1,
   "id": "0ed47790",
   "metadata": {},
   "outputs": [
    {
     "name": "stdout",
     "output_type": "stream",
     "text": [
      "Sum = 15\n"
     ]
    }
   ],
   "source": [
    "# Problem 1 — Sum of N numbers\n",
    "\n",
    "# Step 1: Read how many numbers (N)\n",
    "N = int(input(\"Enter how many numbers: \"))\n",
    "\n",
    "# Step 2: Read N numbers separated by space\n",
    "numbers = list(map(int, input(\"Enter numbers: \").split()))\n",
    "\n",
    "# Step 3: Calculate sum\n",
    "total = sum(numbers)\n",
    "\n",
    "# Step 4: Print result\n",
    "print(\"Sum =\", total)\n"
   ]
  },
  {
   "cell_type": "code",
   "execution_count": 3,
   "id": "b31f344c",
   "metadata": {},
   "outputs": [
    {
     "name": "stdout",
     "output_type": "stream",
     "text": [
      "30.00\n"
     ]
    }
   ],
   "source": [
    "# Read the number of elements\n",
    "N = int(input(\"Enter how many numbers: \"))\n",
    "\n",
    "# Read the N numbers\n",
    "numbers = list(map(int, input(\"Enter the numbers: \").split()))\n",
    "\n",
    "# Calculate sum and average\n",
    "total = sum(numbers)\n",
    "average = total / N\n",
    "\n",
    "# Print average formatted to 2 decimals\n",
    "print(f\"{average:.2f}\")\n"
   ]
  },
  {
   "cell_type": "code",
   "execution_count": 4,
   "id": "75134e7d",
   "metadata": {},
   "outputs": [
    {
     "name": "stdout",
     "output_type": "stream",
     "text": [
      "olleh\n"
     ]
    }
   ],
   "source": [
    "# Read the string\n",
    "s = input(\"Enter a string: \")\n",
    "\n",
    "# Reverse the string\n",
    "reversed_s = s[::-1]\n",
    "\n",
    "# Print the reversed string\n",
    "print(reversed_s)\n"
   ]
  }
 ],
 "metadata": {
  "kernelspec": {
   "display_name": "Python 3",
   "language": "python",
   "name": "python3"
  },
  "language_info": {
   "codemirror_mode": {
    "name": "ipython",
    "version": 3
   },
   "file_extension": ".py",
   "mimetype": "text/x-python",
   "name": "python",
   "nbconvert_exporter": "python",
   "pygments_lexer": "ipython3",
   "version": "3.13.7"
  }
 },
 "nbformat": 4,
 "nbformat_minor": 5
}
